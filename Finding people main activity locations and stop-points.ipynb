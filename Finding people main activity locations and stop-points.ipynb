{
 "cells": [
  {
   "cell_type": "code",
   "execution_count": 1,
   "metadata": {},
   "outputs": [],
   "source": [
    "import pandas as pd \n",
    "import numpy as np\n",
    "from sklearn.cluster import DBSCAN\n",
    "import geopandas as gpd\n",
    "import datetime as dt\n",
    "import copy\n",
    "import matplotlib.pyplot as plt"
   ]
  },
  {
   "cell_type": "code",
   "execution_count": 2,
   "metadata": {},
   "outputs": [],
   "source": [
    "def add_noise(cell):\n",
    "    \"\"\"\n",
    "    This function add noise to the input variable\n",
    "    \n",
    "    input: a number--fload or integer\n",
    "    output: a noisy number\n",
    "    \"\"\"\n",
    "    cell = cell + 0.005*np.random.randn()\n",
    "    return cell"
   ]
  },
  {
   "cell_type": "code",
   "execution_count": 3,
   "metadata": {},
   "outputs": [],
   "source": [
    "def dbscan_(epsilon_m, min_samples, current_ID):\n",
    "    eps = epsilon_m * 0.000009\n",
    "    data = current_ID.copy()\n",
    "    #data.loc[:,'clusterIndex'] = pd.Series(\n",
    "     #                                   np.zeros(\n",
    "      #                                      len(data.index)), \n",
    "       #                                         index=data.index)\n",
    "    \n",
    "    clustering = DBSCAN(\n",
    "        eps = eps, min_samples = min_samples).fit(data[['Long','Lat']])\n",
    "    \n",
    "    data.loc[:, 'clusterIndex'] = clustering.labels_\n",
    "    return data"
   ]
  },
  {
   "cell_type": "code",
   "execution_count": 4,
   "metadata": {},
   "outputs": [],
   "source": [
    "# if data frame became large u have to change block size\n",
    "raw_data = pd.read_csv(\n",
    "    '/home/saeedrmd/Documents/Work/MobileData/Data/Data3000fix.csv'\n",
    "    , parse_dates=[['Date', 'Time']])\n",
    "\n",
    "# Reading Tehran Shapefile\n",
    "tehran_shp = gpd.read_file('/home/saeedrmd/Documents/Work/MobileData/TehranGeorefed/Tehran.shp')"
   ]
  },
  {
   "cell_type": "code",
   "execution_count": 5,
   "metadata": {},
   "outputs": [],
   "source": [
    "# Adding noise\n",
    "# raw_data['noisy_lat'] = raw_data['Lat'].apply(add_noise)\n",
    "# raw_data['noisy_long'] = raw_data['Long'].apply(add_noise)"
   ]
  },
  {
   "cell_type": "code",
   "execution_count": 6,
   "metadata": {},
   "outputs": [],
   "source": [
    "raw_data.sort_values(by=['ID', 'Date_Time'], inplace=True)\n",
    "raw_data.reset_index(inplace = True, drop = True)"
   ]
  },
  {
   "cell_type": "code",
   "execution_count": 7,
   "metadata": {
    "scrolled": true
   },
   "outputs": [
    {
     "data": {
      "text/html": [
       "<div>\n",
       "<style scoped>\n",
       "    .dataframe tbody tr th:only-of-type {\n",
       "        vertical-align: middle;\n",
       "    }\n",
       "\n",
       "    .dataframe tbody tr th {\n",
       "        vertical-align: top;\n",
       "    }\n",
       "\n",
       "    .dataframe thead th {\n",
       "        text-align: right;\n",
       "    }\n",
       "</style>\n",
       "<table border=\"1\" class=\"dataframe\">\n",
       "  <thead>\n",
       "    <tr style=\"text-align: right;\">\n",
       "      <th></th>\n",
       "      <th>Date_Time</th>\n",
       "      <th>ID</th>\n",
       "      <th>Lat</th>\n",
       "      <th>Long</th>\n",
       "    </tr>\n",
       "  </thead>\n",
       "  <tbody>\n",
       "    <tr>\n",
       "      <th>0</th>\n",
       "      <td>2019-07-30 06:53:08</td>\n",
       "      <td>10007</td>\n",
       "      <td>35.823</td>\n",
       "      <td>51.264</td>\n",
       "    </tr>\n",
       "    <tr>\n",
       "      <th>1</th>\n",
       "      <td>2019-07-30 06:53:08</td>\n",
       "      <td>10007</td>\n",
       "      <td>35.823</td>\n",
       "      <td>51.264</td>\n",
       "    </tr>\n",
       "    <tr>\n",
       "      <th>2</th>\n",
       "      <td>2019-07-30 06:55:42</td>\n",
       "      <td>10007</td>\n",
       "      <td>35.823</td>\n",
       "      <td>51.264</td>\n",
       "    </tr>\n",
       "    <tr>\n",
       "      <th>3</th>\n",
       "      <td>2019-07-30 06:55:43</td>\n",
       "      <td>10007</td>\n",
       "      <td>35.823</td>\n",
       "      <td>51.264</td>\n",
       "    </tr>\n",
       "    <tr>\n",
       "      <th>4</th>\n",
       "      <td>2019-07-30 06:58:44</td>\n",
       "      <td>10007</td>\n",
       "      <td>35.823</td>\n",
       "      <td>51.264</td>\n",
       "    </tr>\n",
       "  </tbody>\n",
       "</table>\n",
       "</div>"
      ],
      "text/plain": [
       "            Date_Time     ID     Lat    Long\n",
       "0 2019-07-30 06:53:08  10007  35.823  51.264\n",
       "1 2019-07-30 06:53:08  10007  35.823  51.264\n",
       "2 2019-07-30 06:55:42  10007  35.823  51.264\n",
       "3 2019-07-30 06:55:43  10007  35.823  51.264\n",
       "4 2019-07-30 06:58:44  10007  35.823  51.264"
      ]
     },
     "execution_count": 7,
     "metadata": {},
     "output_type": "execute_result"
    }
   ],
   "source": [
    "raw_data.head()"
   ]
  },
  {
   "cell_type": "code",
   "execution_count": 66,
   "metadata": {},
   "outputs": [],
   "source": [
    "raw_data_groupby = raw_data.groupby(by=['ID'])\n",
    "counter = 0\n",
    "clustered_data_by_Id = {}\n",
    "\n",
    "for ID in raw_data.ID.unique():\n",
    "    counter += 1\n",
    "    current_ID = raw_data_groupby.get_group(ID)\n",
    "\n",
    "    \n",
    "    current_Id_clustered = dbscan_(1000, 7, current_ID)\n",
    "    clustered_data_by_Id['{}'.format(ID)] =  current_Id_clustered\n",
    "    \n",
    "    \n",
    "    if counter == 200: break\n",
    "        \n",
    "    "
   ]
  },
  {
   "cell_type": "code",
   "execution_count": 67,
   "metadata": {},
   "outputs": [
    {
     "name": "stderr",
     "output_type": "stream",
     "text": [
      "/home/saeedrmd/anaconda3/envs/jupyter_env/lib/python3.8/site-packages/pyproj/crs/crs.py:53: FutureWarning: '+init=<authority>:<code>' syntax is deprecated. '<authority>:<code>' is the preferred initialization method. When making the change, be mindful of axis order changes: https://pyproj4.github.io/pyproj/stable/gotchas.html#axis-order-changes-in-proj-6\n",
      "  return _prepare_from_string(\" \".join(pjargs))\n"
     ]
    },
    {
     "data": {
      "image/png": "[encoded data removed]",
      "text/plain": [
       "<Figure size 432x288 with 1 Axes>"
      ]
     },
     "metadata": {
      "needs_background": "light"
     },
     "output_type": "display_data"
    }
   ],
   "source": [
    "# Creating Person shapefile\n",
    "current_ID_Points = gpd.GeoDataFrame(\n",
    "        current_Id_clustered, geometry = gpd.points_from_xy(\n",
    "                                            current_Id_clustered.Long, \n",
    "                                                current_Id_clustered.Lat),  \n",
    "                                                    crs={'init': 'epsg:4326'})\n",
    "\n",
    "base = tehran_shp.plot(color='white', edgecolor='black')\n",
    "current_ID_Points.plot(ax=base, marker='o', column='clusterIndex', markersize=5, categorical=True, legend = True);"
   ]
  },
  {
   "cell_type": "code",
   "execution_count": 68,
   "metadata": {
    "scrolled": true
   },
   "outputs": [
    {
     "name": "stderr",
     "output_type": "stream",
     "text": [
      "/home/saeedrmd/anaconda3/envs/jupyter_env/lib/python3.8/site-packages/pyproj/crs/crs.py:53: FutureWarning: '+init=<authority>:<code>' syntax is deprecated. '<authority>:<code>' is the preferred initialization method. When making the change, be mindful of axis order changes: https://pyproj4.github.io/pyproj/stable/gotchas.html#axis-order-changes-in-proj-6\n",
      "  return _prepare_from_string(\" \".join(pjargs))\n"
     ]
    },
    {
     "data": {
      "image/png": "[encoded data removed]",
      "text/plain": [
       "<Figure size 432x288 with 1 Axes>"
      ]
     },
     "metadata": {
      "needs_background": "light"
     },
     "output_type": "display_data"
    }
   ],
   "source": [
    "# Creating Noisy Points Shapefile\n",
    "current_Id_clustered['noisy_lat'] = current_Id_clustered['Lat'].apply(add_noise)\n",
    "current_Id_clustered['noisy_long'] = current_Id_clustered['Long'].apply(add_noise)\n",
    "\n",
    "current_Id_clustered_Points = gpd.GeoDataFrame(\n",
    "    current_Id_clustered, geometry = gpd.points_from_xy(\n",
    "        current_Id_clustered.noisy_long, current_Id_clustered.noisy_lat),  crs={'init': 'epsg:4326'})\n",
    "\n",
    "base = tehran_shp.plot(color='white', edgecolor='black')\n",
    "current_Id_clustered_Points.plot(ax=base, marker='o', column='clusterIndex', markersize=5, categorical=True, legend = True);"
   ]
  },
  {
   "cell_type": "code",
   "execution_count": 69,
   "metadata": {},
   "outputs": [
    {
     "data": {
      "text/html": [
       "<div>\n",
       "<style scoped>\n",
       "    .dataframe tbody tr th:only-of-type {\n",
       "        vertical-align: middle;\n",
       "    }\n",
       "\n",
       "    .dataframe tbody tr th {\n",
       "        vertical-align: top;\n",
       "    }\n",
       "\n",
       "    .dataframe thead tr th {\n",
       "        text-align: left;\n",
       "    }\n",
       "\n",
       "    .dataframe thead tr:last-of-type th {\n",
       "        text-align: right;\n",
       "    }\n",
       "</style>\n",
       "<table border=\"1\" class=\"dataframe\">\n",
       "  <thead>\n",
       "    <tr>\n",
       "      <th></th>\n",
       "      <th>Date_Time</th>\n",
       "      <th>ID</th>\n",
       "      <th>Lat</th>\n",
       "      <th>Long</th>\n",
       "      <th>geometry</th>\n",
       "      <th>noisy_lat</th>\n",
       "      <th>noisy_long</th>\n",
       "    </tr>\n",
       "    <tr>\n",
       "      <th></th>\n",
       "      <th>count</th>\n",
       "      <th>count</th>\n",
       "      <th>count</th>\n",
       "      <th>count</th>\n",
       "      <th>count</th>\n",
       "      <th>count</th>\n",
       "      <th>count</th>\n",
       "    </tr>\n",
       "    <tr>\n",
       "      <th>clusterIndex</th>\n",
       "      <th></th>\n",
       "      <th></th>\n",
       "      <th></th>\n",
       "      <th></th>\n",
       "      <th></th>\n",
       "      <th></th>\n",
       "      <th></th>\n",
       "    </tr>\n",
       "  </thead>\n",
       "  <tbody>\n",
       "    <tr>\n",
       "      <th>-1</th>\n",
       "      <td>23</td>\n",
       "      <td>23</td>\n",
       "      <td>23</td>\n",
       "      <td>23</td>\n",
       "      <td>23</td>\n",
       "      <td>23</td>\n",
       "      <td>23</td>\n",
       "    </tr>\n",
       "    <tr>\n",
       "      <th>0</th>\n",
       "      <td>761</td>\n",
       "      <td>761</td>\n",
       "      <td>761</td>\n",
       "      <td>761</td>\n",
       "      <td>761</td>\n",
       "      <td>761</td>\n",
       "      <td>761</td>\n",
       "    </tr>\n",
       "    <tr>\n",
       "      <th>1</th>\n",
       "      <td>13</td>\n",
       "      <td>13</td>\n",
       "      <td>13</td>\n",
       "      <td>13</td>\n",
       "      <td>13</td>\n",
       "      <td>13</td>\n",
       "      <td>13</td>\n",
       "    </tr>\n",
       "    <tr>\n",
       "      <th>2</th>\n",
       "      <td>17</td>\n",
       "      <td>17</td>\n",
       "      <td>17</td>\n",
       "      <td>17</td>\n",
       "      <td>17</td>\n",
       "      <td>17</td>\n",
       "      <td>17</td>\n",
       "    </tr>\n",
       "    <tr>\n",
       "      <th>3</th>\n",
       "      <td>2193</td>\n",
       "      <td>2193</td>\n",
       "      <td>2193</td>\n",
       "      <td>2193</td>\n",
       "      <td>2193</td>\n",
       "      <td>2193</td>\n",
       "      <td>2193</td>\n",
       "    </tr>\n",
       "    <tr>\n",
       "      <th>4</th>\n",
       "      <td>17</td>\n",
       "      <td>17</td>\n",
       "      <td>17</td>\n",
       "      <td>17</td>\n",
       "      <td>17</td>\n",
       "      <td>17</td>\n",
       "      <td>17</td>\n",
       "    </tr>\n",
       "    <tr>\n",
       "      <th>5</th>\n",
       "      <td>8</td>\n",
       "      <td>8</td>\n",
       "      <td>8</td>\n",
       "      <td>8</td>\n",
       "      <td>8</td>\n",
       "      <td>8</td>\n",
       "      <td>8</td>\n",
       "    </tr>\n",
       "    <tr>\n",
       "      <th>6</th>\n",
       "      <td>7</td>\n",
       "      <td>7</td>\n",
       "      <td>7</td>\n",
       "      <td>7</td>\n",
       "      <td>7</td>\n",
       "      <td>7</td>\n",
       "      <td>7</td>\n",
       "    </tr>\n",
       "    <tr>\n",
       "      <th>7</th>\n",
       "      <td>30</td>\n",
       "      <td>30</td>\n",
       "      <td>30</td>\n",
       "      <td>30</td>\n",
       "      <td>30</td>\n",
       "      <td>30</td>\n",
       "      <td>30</td>\n",
       "    </tr>\n",
       "    <tr>\n",
       "      <th>8</th>\n",
       "      <td>8</td>\n",
       "      <td>8</td>\n",
       "      <td>8</td>\n",
       "      <td>8</td>\n",
       "      <td>8</td>\n",
       "      <td>8</td>\n",
       "      <td>8</td>\n",
       "    </tr>\n",
       "    <tr>\n",
       "      <th>9</th>\n",
       "      <td>7</td>\n",
       "      <td>7</td>\n",
       "      <td>7</td>\n",
       "      <td>7</td>\n",
       "      <td>7</td>\n",
       "      <td>7</td>\n",
       "      <td>7</td>\n",
       "    </tr>\n",
       "  </tbody>\n",
       "</table>\n",
       "</div>"
      ],
      "text/plain": [
       "             Date_Time    ID   Lat  Long geometry noisy_lat noisy_long\n",
       "                 count count count count    count     count      count\n",
       "clusterIndex                                                          \n",
       "-1                  23    23    23    23       23        23         23\n",
       " 0                 761   761   761   761      761       761        761\n",
       " 1                  13    13    13    13       13        13         13\n",
       " 2                  17    17    17    17       17        17         17\n",
       " 3                2193  2193  2193  2193     2193      2193       2193\n",
       " 4                  17    17    17    17       17        17         17\n",
       " 5                   8     8     8     8        8         8          8\n",
       " 6                   7     7     7     7        7         7          7\n",
       " 7                  30    30    30    30       30        30         30\n",
       " 8                   8     8     8     8        8         8          8\n",
       " 9                   7     7     7     7        7         7          7"
      ]
     },
     "execution_count": 69,
     "metadata": {},
     "output_type": "execute_result"
    }
   ],
   "source": [
    "current_Id_clustered.groupby(['clusterIndex']).agg(['count'])"
   ]
  },
  {
   "cell_type": "markdown",
   "metadata": {},
   "source": [
    "# Ploting the cluster time histogram "
   ]
  },
  {
   "cell_type": "code",
   "execution_count": 72,
   "metadata": {},
   "outputs": [],
   "source": [
    "# Defining the weekdays in order to seperate workdays and weekdays\n",
    "current_Id_clustered['weekday'] = current_Id_clustered[['Date_Time']].apply(lambda x: dt.datetime.strftime(x['Date_Time'], '%A'), axis=1)\n",
    "\n",
    "# Defining the cluster number for which we want to plot the histogram\n",
    "desired_cluster = copy.copy(current_Id_clustered[current_Id_clustered['clusterIndex'] == 3])\n",
    "\n",
    "# Filtering Workdays\n",
    "desired_cluster_workdays = copy.copy(desired_cluster[(desired_cluster['weekday'] != 'Friday')\n",
    "                                                     & (desired_cluster['weekday'] != 'Thursday')])\n",
    "# Filtering Weekends\n",
    "desired_cluster_weekends = copy.copy(desired_cluster[(desired_cluster['weekday'] == 'Friday')\n",
    "                                                     | (desired_cluster['weekday'] == 'Thursday')])"
   ]
  },
  {
   "cell_type": "code",
   "execution_count": 73,
   "metadata": {},
   "outputs": [
    {
     "data": {
      "text/plain": [
       "array([[<AxesSubplot:title={'center':'hour'}>]], dtype=object)"
      ]
     },
     "execution_count": 73,
     "metadata": {},
     "output_type": "execute_result"
    },
    {
     "data": {
      "image/png": "[encoded data removed]",
      "text/plain": [
       "<Figure size 864x576 with 1 Axes>"
      ]
     },
     "metadata": {
      "needs_background": "light"
     },
     "output_type": "display_data"
    },
    {
     "data": {
      "image/png": "[encoded data removed]",
      "text/plain": [
       "<Figure size 864x576 with 1 Axes>"
      ]
     },
     "metadata": {
      "needs_background": "light"
     },
     "output_type": "display_data"
    }
   ],
   "source": [
    "# Defining the hour of connection\n",
    "desired_cluster_workdays.loc[:, 'hour'] = desired_cluster_workdays.loc[:,'Date_Time'].dt.hour\n",
    "\n",
    "# Defining the hour of connection\n",
    "desired_cluster_weekends.loc[:, 'hour'] = desired_cluster_weekends.loc[:,'Date_Time'].dt.hour\n",
    "\n",
    "# Ploting the histogram\n",
    "desired_cluster_workdays.hist(column='hour', bins=23, grid=False, figsize=(12,8), color='#86bf91', zorder=2, rwidth=0.9)\n",
    "\n",
    "desired_cluster_weekends.hist(column='hour', bins=23, grid=False, figsize=(12,8), color='#86bf91', zorder=2, rwidth=0.9)\n",
    "# Method 2: plt.hist(desired_cluster['hour'], bins = 24)"
   ]
  },
  {
   "cell_type": "code",
   "execution_count": null,
   "metadata": {},
   "outputs": [],
   "source": []
  },
  {
   "cell_type": "code",
   "execution_count": null,
   "metadata": {},
   "outputs": [],
   "source": []
  },
  {
   "cell_type": "code",
   "execution_count": null,
   "metadata": {},
   "outputs": [],
   "source": [
    "# Creating Person shapefile\n",
    "current_ID_Points = gpd.GeoDataFrame(\n",
    "        current_Id_clustered, geometry = gpd.points_from_xy(\n",
    "                                            current_Id_clustered.Long, \n",
    "                                                current_Id_clustered.Lat),  \n",
    "                                                    crs={'init': 'epsg:4326'})\n",
    "\n",
    "base = tehran_shp.plot(color='white', edgecolor='black')\n",
    "current_ID_Points.plot(ax=base, marker='o', column='clusterIndex', markersize=5, categorical=True, legend = True);"
   ]
  },
  {
   "cell_type": "code",
   "execution_count": null,
   "metadata": {
    "scrolled": false
   },
   "outputs": [],
   "source": [
    "# Creating Noisy Points Shapefile\n",
    "current_Id_clustered['noisy_lat'] = current_Id_clustered['Lat'].apply(add_noise)\n",
    "current_Id_clustered['noisy_long'] = current_Id_clustered['Long'].apply(add_noise)\n",
    "\n",
    "current_Id_clustered_Points = gpd.GeoDataFrame(\n",
    "    current_Id_clustered, geometry = gpd.points_from_xy(\n",
    "        current_Id_clustered.noisy_long, current_Id_clustered.noisy_lat),  crs={'init': 'epsg:4326'})\n",
    "\n",
    "base = tehran_shp.plot(color='white', edgecolor='black')\n",
    "current_Id_clustered_Points.plot(ax=base, marker='o', column='clusterIndex', markersize=5, categorical=True, legend = True);"
   ]
  },
  {
   "cell_type": "code",
   "execution_count": null,
   "metadata": {},
   "outputs": [],
   "source": []
  },
  {
   "cell_type": "code",
   "execution_count": null,
   "metadata": {},
   "outputs": [],
   "source": []
  },
  {
   "cell_type": "code",
   "execution_count": null,
   "metadata": {},
   "outputs": [],
   "source": []
  },
  {
   "cell_type": "code",
   "execution_count": null,
   "metadata": {},
   "outputs": [],
   "source": []
  },
  {
   "cell_type": "code",
   "execution_count": null,
   "metadata": {},
   "outputs": [],
   "source": []
  },
  {
   "cell_type": "code",
   "execution_count": null,
   "metadata": {},
   "outputs": [],
   "source": []
  },
  {
   "cell_type": "code",
   "execution_count": null,
   "metadata": {},
   "outputs": [],
   "source": []
  },
  {
   "cell_type": "code",
   "execution_count": null,
   "metadata": {},
   "outputs": [],
   "source": []
  },
  {
   "cell_type": "code",
   "execution_count": null,
   "metadata": {},
   "outputs": [],
   "source": []
  },
  {
   "cell_type": "markdown",
   "metadata": {},
   "source": [
    "# use DBSCAN to cluster our data"
   ]
  },
  {
   "cell_type": "code",
   "execution_count": null,
   "metadata": {},
   "outputs": [],
   "source": []
  },
  {
   "cell_type": "code",
   "execution_count": null,
   "metadata": {},
   "outputs": [],
   "source": []
  },
  {
   "cell_type": "code",
   "execution_count": null,
   "metadata": {},
   "outputs": [],
   "source": []
  },
  {
   "cell_type": "code",
   "execution_count": null,
   "metadata": {},
   "outputs": [],
   "source": [
    "data_filtered = data_Base[((data_Base.Day == 'Friday') | (data_Base.Day == 'Thursday')) & ((data_Base.StayStart.dt.hour >= 19) | (data_Base.StayStart.dt.hour <= 1)) & (data_Base.Purpose == 'Other')]\n"
   ]
  },
  {
   "cell_type": "code",
   "execution_count": null,
   "metadata": {},
   "outputs": [],
   "source": [
    "data_Home = data_Base[(data_Base.Purpose == 'Home')][['ID','Lat','Long','manategh','Purpose']]\n",
    "\n",
    "data_Home=data_Home.drop_duplicates()"
   ]
  },
  {
   "cell_type": "code",
   "execution_count": null,
   "metadata": {},
   "outputs": [],
   "source": [
    "data_filtered = dd.merge(data_filtered,data_Home,on='ID',how='inner')\n"
   ]
  },
  {
   "cell_type": "code",
   "execution_count": null,
   "metadata": {},
   "outputs": [],
   "source": [
    "data_filtered['Latlong'] = data_filtered[['Lat_x','Long_x']].apply(tuple, axis=1, meta=(None , 'object')) \n",
    "data_filtered.head()"
   ]
  },
  {
   "cell_type": "markdown",
   "metadata": {},
   "source": [
    "# Filter Noises"
   ]
  },
  {
   "cell_type": "code",
   "execution_count": null,
   "metadata": {},
   "outputs": [],
   "source": [
    "data_filtered_Reactivity = data_filtered[data_filtered.Clust_recreational != -1 ]   \n",
    "data_filtered_Reactivity.head()"
   ]
  },
  {
   "cell_type": "markdown",
   "metadata": {},
   "source": [
    "# Convert data to pandas DataFrame"
   ]
  },
  {
   "cell_type": "code",
   "execution_count": null,
   "metadata": {},
   "outputs": [],
   "source": [
    "data = data_filtered_Reactivity.compute()\n"
   ]
  },
  {
   "cell_type": "code",
   "execution_count": null,
   "metadata": {},
   "outputs": [],
   "source": [
    "data.rename(columns ={'Lat_x':'RELat','Long_x':'RELong','manategh_x':'REZones','Lat_y':'Homelat','Long_y':'Homelong','manategh_y':'Homezone'},inplace=True)\n",
    "data.drop(columns=['Purpose_x','Purpose_y'],inplace=True)\n",
    "data"
   ]
  },
  {
   "cell_type": "markdown",
   "metadata": {},
   "source": [
    "Calculate centroids for Clusters"
   ]
  },
  {
   "cell_type": "code",
   "execution_count": null,
   "metadata": {},
   "outputs": [],
   "source": [
    "centroid = data[['RELat','RELong','Clust_recreational']].groupby('Clust_recreational',as_index=False).mean()\n",
    "centroid.rename(columns={'RELat':'REcentroid','RELong':'REcentroid'},inplace=True)\n",
    "centroid"
   ]
  },
  {
   "cell_type": "markdown",
   "metadata": {},
   "source": [
    "we use this to merge centroids with merged dataframe"
   ]
  },
  {
   "cell_type": "code",
   "execution_count": null,
   "metadata": {},
   "outputs": [],
   "source": [
    "data = data.merge(centroid,on='Clust_recreational',how='outer')\n",
    "\n"
   ]
  },
  {
   "cell_type": "markdown",
   "metadata": {},
   "source": [
    "# count NoOf Activity and Anntena for each Cluster \n",
    "To decide which cluster is Recreational"
   ]
  },
  {
   "cell_type": "code",
   "execution_count": null,
   "metadata": {},
   "outputs": [],
   "source": [
    "l=[]\n",
    "gp = data.groupby('Clust_recreational')\n",
    "for i in data.Clust_recreational.unique():\n",
    "    Total_num = gp.get_group(i)['Latlong'].shape[0]\n",
    "    NoofuniqueAtenna = gp.get_group(i).Latlong.unique().shape[0]\n",
    "    l.append([i,Total_num,NoofuniqueAtenna])\n",
    "\n",
    "\n",
    "clustdetail = pd.DataFrame(l,columns=['Clust','Total Activity','No of Anntena'])"
   ]
  },
  {
   "cell_type": "code",
   "execution_count": null,
   "metadata": {},
   "outputs": [],
   "source": [
    "clustdetail"
   ]
  },
  {
   "cell_type": "markdown",
   "metadata": {},
   "source": [
    "Then u have to decide which cluster no u need by two factor (Total Activity,No of Anntena)\n"
   ]
  },
  {
   "cell_type": "code",
   "execution_count": null,
   "metadata": {},
   "outputs": [],
   "source": [
    "import matplotlib.pyplot as plt"
   ]
  },
  {
   "cell_type": "code",
   "execution_count": null,
   "metadata": {},
   "outputs": [],
   "source": [
    "clustdetail.sort_values('Total Activity',ascending=False,inplace=True)\n",
    "clustdetail.reset_index(inplace = True)\n",
    "clustdetail.head()"
   ]
  },
  {
   "cell_type": "markdown",
   "metadata": {},
   "source": [
    "This is for decision making "
   ]
  },
  {
   "cell_type": "code",
   "execution_count": null,
   "metadata": {},
   "outputs": [],
   "source": [
    "plt.figure(figsize=(17,17))\n",
    "plt.plot(clustdetail.index,clustdetail['Total Activity'])"
   ]
  },
  {
   "cell_type": "markdown",
   "metadata": {},
   "source": [
    "collect clusters to use them as recreational clusters"
   ]
  },
  {
   "cell_type": "code",
   "execution_count": null,
   "metadata": {},
   "outputs": [],
   "source": [
    "ClusterCollection = clustdetail['Clust'].loc[:5].to_list()"
   ]
  },
  {
   "cell_type": "code",
   "execution_count": null,
   "metadata": {},
   "outputs": [],
   "source": [
    "Collected = data[data.Clust_recreational.isin(ClusterCollection)]\n",
    "Collected.head()"
   ]
  },
  {
   "cell_type": "markdown",
   "metadata": {},
   "source": [
    "# Use pivot table to count transitions between users home and recreational clusters"
   ]
  },
  {
   "cell_type": "code",
   "execution_count": null,
   "metadata": {},
   "outputs": [],
   "source": [
    "pd.pivot_table(Collected,aggfunc=(lambda x: x.count()),index=['Homezone'],columns=['Clust_recreational'],values=['ID'])"
   ]
  },
  {
   "cell_type": "code",
   "execution_count": null,
   "metadata": {},
   "outputs": [],
   "source": [
    "#r[(r.Clust_recreational==28) & (r.Homezone==1)]     #This is for checking"
   ]
  },
  {
   "cell_type": "code",
   "execution_count": null,
   "metadata": {},
   "outputs": [],
   "source": []
  },
  {
   "cell_type": "markdown",
   "metadata": {},
   "source": [
    "# Spatial join for Recrational Activity"
   ]
  },
  {
   "cell_type": "code",
   "execution_count": null,
   "metadata": {},
   "outputs": [],
   "source": [
    "#data = data.repartition(partition_size='5MB')"
   ]
  },
  {
   "cell_type": "code",
   "execution_count": null,
   "metadata": {},
   "outputs": [],
   "source": [
    "df = data_filtered[['ID','Lat_x','Long_x','Clust_recreational']]\n",
    "df.head()"
   ]
  },
  {
   "cell_type": "code",
   "execution_count": null,
   "metadata": {},
   "outputs": [],
   "source": [
    "def spj(df):\n",
    "    \n",
    "    shp1 = gpd.read_file('E:tehrn.shp') #send this for mr Rahmani\n",
    "    shp = shp1.to_crs({'init': 'epsg:4326'})\n",
    "    geodf = gpd.GeoDataFrame(df, geometry=gpd.points_from_xy(x=df.Long_x, y=df.Lat_x), crs={'init': 'epsg:4326'})\n",
    "    joined_data =gpd.sjoin(geodf, shp, how='left',op='within')\n",
    "    \n",
    "    \n",
    "    return joined_data\n",
    "    "
   ]
  },
  {
   "cell_type": "code",
   "execution_count": null,
   "metadata": {},
   "outputs": [],
   "source": [
    "out = df.map_partitions(spj)\n",
    "\n",
    "data_Base.to_csv('E:outreJoined.csv')"
   ]
  }
 ],
 "metadata": {
  "kernelspec": {
   "display_name": "Python 3",
   "language": "python",
   "name": "python3"
  },
  "language_info": {
   "codemirror_mode": {
    "name": "ipython",
    "version": 3
   },
   "file_extension": ".py",
   "mimetype": "text/x-python",
   "name": "python",
   "nbconvert_exporter": "python",
   "pygments_lexer": "ipython3",
   "version": "3.8.5"
  }
 },
 "nbformat": 4,
 "nbformat_minor": 4
}
