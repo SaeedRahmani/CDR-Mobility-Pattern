{
 "cells": [
  {
   "cell_type": "code",
   "execution_count": null,
   "metadata": {},
   "outputs": [],
   "source": [
    "\"\"\"\n",
    "This code calculates Trip Length Frequencies. \n",
    "\n",
    "Inputs  -   People stayPoints File\n",
    "\n",
    "Output  -   Trip lenght frequency dataframe stored in \"extTripsDist_df\",\n",
    "            \"intTripsDist_df\" for all people\n",
    "            and also the trip lenght frequencies for each person stored in two \n",
    "            dicts, namely \"extTripsDistById\" and \"intTripsDistById\"\n",
    "            \n",
    "            intTrips means trips within a zone and extTrips indicates the trips\n",
    "            between zones.\n",
    "\"\"\""
   ]
  },
  {
   "cell_type": "markdown",
   "metadata": {},
   "source": [
    "# Tune Multithreading Options"
   ]
  },
  {
   "cell_type": "code",
   "execution_count": 1,
   "metadata": {},
   "outputs": [
    {
     "data": {
      "text/html": [
       "<table style=\"border: 2px solid white;\">\n",
       "<tr>\n",
       "<td style=\"vertical-align: top; border: 0px solid white\">\n",
       "<h3 style=\"text-align: left;\">Client</h3>\n",
       "<ul style=\"text-align: left; list-style: none; margin: 0; padding: 0;\">\n",
       "  <li><b>Scheduler: </b>tcp://127.0.0.1:3841</li>\n",
       "  <li><b>Dashboard: </b><a href='http://127.0.0.1:8787/status' target='_blank'>http://127.0.0.1:8787/status</a>\n",
       "</ul>\n",
       "</td>\n",
       "<td style=\"vertical-align: top; border: 0px solid white\">\n",
       "<h3 style=\"text-align: left;\">Cluster</h3>\n",
       "<ul style=\"text-align: left; list-style:none; margin: 0; padding: 0;\">\n",
       "  <li><b>Workers: </b>6</li>\n",
       "  <li><b>Cores: </b>12</li>\n",
       "  <li><b>Memory: </b>24.00 GB</li>\n",
       "</ul>\n",
       "</td>\n",
       "</tr>\n",
       "</table>"
      ],
      "text/plain": [
       "<Client: 'tcp://127.0.0.1:3841' processes=6 threads=12, memory=24.00 GB>"
      ]
     },
     "execution_count": 1,
     "metadata": {},
     "output_type": "execute_result"
    }
   ],
   "source": [
    "\"\"\"\n",
    "This Part can tune Multi threading\n",
    "\n",
    "n_workers = Number of CPU cores\n",
    "memory_limit = limitation of memory for each worker\n",
    "\n",
    "Becareful about choosing number of workers some time its better to reduce number of workers due to memory limitations\n",
    "\n",
    "Tune partitioning or number of partitions can help multi threading process and may reduce memory overheading\n",
    "\n",
    "\"\"\"\n",
    "\n",
    "\n",
    "\n",
    "\n",
    "from dask.distributed import Client, LocalCluster\n",
    "cluster = LocalCluster(n_workers=6, \n",
    "                       threads_per_worker=2,\n",
    "                       memory_limit='4GB')\n",
    "client = Client(cluster)\n",
    "client"
   ]
  },
  {
   "cell_type": "markdown",
   "metadata": {},
   "source": [
    "# Import Libraries"
   ]
  },
  {
   "cell_type": "code",
   "execution_count": 3,
   "metadata": {},
   "outputs": [],
   "source": [
    "\n",
    "import pandas as pd \n",
    "import numpy as np\n",
    "from geopy.distance import geodesic\n",
    "import matplotlib.pyplot as plt\n",
    "import dask.dataframe as dd\n"
   ]
  },
  {
   "cell_type": "markdown",
   "metadata": {},
   "source": [
    "# Prepairing Dataset"
   ]
  },
  {
   "cell_type": "code",
   "execution_count": 81,
   "metadata": {},
   "outputs": [],
   "source": [
    "stayPoints = dd.read_csv(r'E:\\Arshad\\Thesis\\Datasets\\parameter change\\New folder\\500m\\500m.csv', parse_dates=['Date_Time'] , blocksize='500KB') # Stay Points extracted by \"Stay Point Extraction\" Code \n",
    "\n",
    "#stayPoints = stayPoints.repartition(npartitions=5)\n",
    "#for weekends u have to import weekends file by add a filtere here and filter these data by days\n",
    "#stayPoints = stayPoints[(stayPoints['Date_Time'].dt.day_name() != 'Friday') & (stayPoints['Date_Time'].dt.day_name() != 'Thursday')]  #weekday\n",
    "#stayPoints = stayPoints[(stayPoints['Date_Time'].dt.day_name() == 'Friday') & (stayPoints['Date_Time'].dt.day_name() == 'Thursday')]   #weekend\n",
    "stays_byID = stayPoints.groupby(by=['ID'])\n"
   ]
  },
  {
   "cell_type": "code",
   "execution_count": null,
   "metadata": {},
   "outputs": [],
   "source": []
  },
  {
   "cell_type": "code",
   "execution_count": 82,
   "metadata": {},
   "outputs": [],
   "source": [
    "def triplength(stays_byID):\n",
    "    \n",
    "    curIdExtTripsDist = [] # Between Different Zones\n",
    "    curIdIntTripsDist = [] # Within a Zone\n",
    "    curIdHometowork = []\n",
    "    currIdHome = stays_byID[stays_byID.Purpose=='Home'].head(1)\n",
    "    #counter += 1\n",
    "    \n",
    "    df = pd.DataFrame(stays_byID['Date_Time'])\n",
    "    curIdDays = pd.to_datetime(df['Date_Time'].dt.normalize().unique()) + pd.Timedelta(3,unit='H')\n",
    "    \n",
    "    # for i in pd.date_range(start='2019-07-29 3:00:00',periods=31,freq='D'): # Loop over different days of a person ????? Loop over all days. We should make it more efficient\n",
    "    #     curDayOfId = curIdStays.loc[(curIdStays['Date_Time']>=i) & (curIdStays['Date_Time']<=i+pd.Timedelta(1,unit='D'))]\n",
    "    for i in curIdDays:\n",
    "        # curDayOfId = curIdStays.loc[(curIdStays['Date_Time']>=i) & (curIdStays['Date_Time']<=i+pd.Timedelta(1,unit='D'))]\n",
    "        curDayOfId = stays_byID[(stays_byID['Date_Time']>=i) & (stays_byID['Date_Time'] <= i+ pd.Timedelta(1,unit='D'))]\n",
    "        if len(curDayOfId != 0):   # ?????? Ignore the days in which the person has no data. ???? It's not efficient. \n",
    "            if (stays_byID.iloc[0]['Purpose'] == 'Other') or (stays_byID.iloc[0]['Purpose'] == 'Work'): # Check if the person's home has been found for the current day (Start of the day). If not, insert the home to the start of the day.\n",
    "                curDayOfId = pd.concat([currIdHome, curDayOfId]) # ?????? reset index \n",
    "                        \n",
    "            if (curDayOfId.iloc[-1]['Purpose'] == 'Other') or (curDayOfId.iloc[-1]['Purpose'] == 'Work'): # Check if the person's home has been found for the current day (End of the day). If not, insert the home to the end of the day.\n",
    "                curDayOfId = pd.concat([curDayOfId, currIdHome]) # ?????? reset index \n",
    "                \n",
    "            for j1 in range(curDayOfId.shape[0]-1): # ??????? Here we should exclude the successive stay points with the same LatLong to make the code faster \n",
    "                if curDayOfId.iloc[j1]['Lat'] != curDayOfId.iloc[j1+1]['Lat'] or curDayOfId.iloc[j1]['Long'] != curDayOfId.iloc[j1+1]['Long']:\n",
    "                    tripDistance = geodesic(curDayOfId.iloc[j1][['Lat','Long']], curDayOfId.iloc[j1+1][['Lat','Long']]).meters\n",
    "                    if curDayOfId.iloc[j1]['manategh'] != curDayOfId.iloc[j1+1]['manategh']:\n",
    "                        curIdExtTripsDist.append(tripDistance)\n",
    "                    if curDayOfId.iloc[j1]['manategh'] == curDayOfId.iloc[j1+1]['manategh']:\n",
    "                        curIdIntTripsDist.append(tripDistance)\n",
    "                    if (curDayOfId.iloc[j1]['Purpose'] == 'Home' or curDayOfId.iloc[j1+1]['Purpose'] == 'Work') and (curDayOfId.iloc[j1+1]['Purpose'] == 'Home' or curDayOfId.iloc[j1]['Purpose'] == 'Work'):\n",
    "                        tripDistanceworkhome = geodesic(curDayOfId.iloc[j1][['Lat','Long']], curDayOfId.iloc[j1+1][['Lat','Long']]).meters\n",
    "                        curIdHometowork.append([tripDistanceworkhome,currIdHome.manategh.values[0]])\n",
    "    \n",
    "    curIdworkhomedist_df = pd.DataFrame(curIdHometowork, columns=['Trip_length_H2W','Homeloc'])                   \n",
    "    curIdExtTripsDist_df = pd.DataFrame(curIdExtTripsDist, columns=['Trip_length_external'])\n",
    "    curIdIntTripsDist_df = pd.DataFrame(curIdIntTripsDist, columns=['Trip_length_internal'])\n",
    "    #curIdExtTripsDist_df['ID'] = id_\n",
    "    data = pd.concat([curIdworkhomedist_df,curIdExtTripsDist_df,curIdIntTripsDist_df] )\n",
    "    data['ID1'] = currIdHome.ID.values[0]\n",
    "    #curIdIntTripsDist_df['ID'] = id_\n",
    "    #curIdworkhomedist_df['ID'] = id_\n",
    "\n",
    "    #extTripsDistById['{}'.format(id_)] = curIdExtTripsDist_df\n",
    "    #intTripsDistById['{}'.format(id_)] = curIdIntTripsDist_df\n",
    "    #homeworkdist['{}'.format(id_)] = curIdworkhomedist_df\n",
    "    return data"
   ]
  },
  {
   "cell_type": "markdown",
   "metadata": {},
   "source": [
    "# calculate"
   ]
  },
  {
   "cell_type": "code",
   "execution_count": 83,
   "metadata": {},
   "outputs": [],
   "source": [
    "r = stays_byID.apply(triplength,meta={'Trip_length_H2W':'float','Homeloc':'int','Trip_length_external':'float','Trip_length_internal':'float','ID1':'int'})"
   ]
  },
  {
   "cell_type": "markdown",
   "metadata": {},
   "source": [
    "# External Trips for each ID"
   ]
  },
  {
   "cell_type": "code",
   "execution_count": 111,
   "metadata": {},
   "outputs": [],
   "source": [
    "extTrips = r.groupby('ID1')['Trip_length_external'].mean()/1000"
   ]
  },
  {
   "cell_type": "markdown",
   "metadata": {},
   "source": [
    "# Internal Trips for each ID"
   ]
  },
  {
   "cell_type": "code",
   "execution_count": 112,
   "metadata": {},
   "outputs": [],
   "source": [
    "\n",
    "intTrips = r.groupby(by=['ID1'])['Trip_length_internal'].mean()/1000\n",
    "intTrips = intTrips.dropna()"
   ]
  },
  {
   "cell_type": "markdown",
   "metadata": {},
   "source": [
    "# Home to work distance"
   ]
  },
  {
   "cell_type": "code",
   "execution_count": 113,
   "metadata": {},
   "outputs": [],
   "source": [
    "datacut_H2W = r[['ID1','Homeloc','Trip_length_H2W']].dropna(subset=['Trip_length_H2W'])\n",
    "H2W_ = datacut_H2W.groupby(['ID1']).mean()\n",
    "H2W_f = H2W_.groupby('Homeloc').mean()/1000"
   ]
  },
  {
   "cell_type": "markdown",
   "metadata": {},
   "source": [
    "# Move from HDD to Ram"
   ]
  },
  {
   "cell_type": "code",
   "execution_count": 114,
   "metadata": {},
   "outputs": [],
   "source": [
    "external_trips,internal_trip,Home2work= dd.compute(extTrips,intTrips,H2W_f)"
   ]
  },
  {
   "cell_type": "markdown",
   "metadata": {},
   "source": [
    "# Plotting"
   ]
  },
  {
   "cell_type": "code",
   "execution_count": 138,
   "metadata": {},
   "outputs": [
    {
     "data": {
      "image/png": "[encoded data removed]",
      "text/plain": [
       "<Figure size 720x432 with 1 Axes>"
      ]
     },
     "metadata": {
      "needs_background": "light"
     },
     "output_type": "display_data"
    },
    {
     "data": {
      "image/png": "[encoded data removed]",
      "text/plain": [
       "<Figure size 360x288 with 1 Axes>"
      ]
     },
     "metadata": {
      "needs_background": "light"
     },
     "output_type": "display_data"
    },
    {
     "data": {
      "image/png": "[encoded data removed]",
      "text/plain": [
       "<Figure size 720x432 with 1 Axes>"
      ]
     },
     "metadata": {
      "needs_background": "light"
     },
     "output_type": "display_data"
    }
   ],
   "source": [
    "#External Trips\n",
    "plt.figure(figsize=(10,6))\n",
    "#extTrips = extTripsDist_df.groupby(by=['ID']).mean()/1000\n",
    "plt.axvline(external_trips.mean(),color='r', linestyle='--')\n",
    "plt.hist(external_trips,bins=20,histtype='barstacked',width=1.8,density = True)\n",
    "plt.xticks([i for i in range(0,50,2)])\n",
    "plt.xlabel('Kilometers')\n",
    "plt.ylabel('Prob')\n",
    "plt.title('External Trips')\n",
    "plt.tight_layout()\n",
    "\n",
    "\n",
    "#internal Trips\n",
    "plt.figure(figsize=(5,4))\n",
    "#intTrips = intTripsDist_df.groupby(by=['ID']).mean()/1000\n",
    "plt.hist(internal_trip,bins=20,histtype='barstacked',width=0.9,density = True)\n",
    "plt.axvline(internal_trip.mean(),color='r', linestyle='--')\n",
    "plt.xticks([i for i in range(0,32,2)])\n",
    "plt.xlabel('Kilometers')\n",
    "plt.ylabel('Frequency')\n",
    "plt.title('Internal Trips')\n",
    "plt.tight_layout()\n",
    "\n",
    "\n",
    "\n",
    "#Home to Works trip length\n",
    "plt.figure(figsize=(10,6))\n",
    "#rr = homeworkdist_df.groupby('Homeloc').mean()['Trip_length']/1000\n",
    "plt.bar(Home2work.index.values,Home2work['Trip_length_H2W'])\n",
    "plt.xticks(range(0,23))\n",
    "plt.axhline(Home2work.mean().values[0],color='r', linestyle='--')\n",
    "plt.xlabel('Zone')\n",
    "plt.ylabel('Mean Travel Length')\n",
    "plt.title('Work Home')\n",
    "plt.tight_layout()\n",
    "\n",
    "\n"
   ]
  },
  {
   "cell_type": "code",
   "execution_count": null,
   "metadata": {},
   "outputs": [],
   "source": []
  },
  {
   "cell_type": "code",
   "execution_count": null,
   "metadata": {},
   "outputs": [],
   "source": []
  }
 ],
 "metadata": {
  "kernelspec": {
   "display_name": "Python 3",
   "language": "python",
   "name": "python3"
  },
  "language_info": {
   "codemirror_mode": {
    "name": "ipython",
    "version": 3
   },
   "file_extension": ".py",
   "mimetype": "text/x-python",
   "name": "python",
   "nbconvert_exporter": "python",
   "pygments_lexer": "ipython3",
   "version": "3.7.6"
  }
 },
 "nbformat": 4,
 "nbformat_minor": 4
}
