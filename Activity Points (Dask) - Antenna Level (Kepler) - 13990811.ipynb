{
 "cells": [
  {
   "cell_type": "code",
   "execution_count": 1,
   "metadata": {},
   "outputs": [
    {
     "data": {
      "text/plain": [
       "'\\ninpute = Raw_Data\\noutput = frequency of each Tower during 6 AM to 23:59 PM\\n\\nauthor = Mahdiyar/Rahmani\\n\\n\\n\\n'"
      ]
     },
     "execution_count": 1,
     "metadata": {},
     "output_type": "execute_result"
    }
   ],
   "source": [
    "\"\"\"\n",
    "inpute = Raw_Data\n",
    "output = frequency of each Tower during 6 AM to 23:59 PM\n",
    "\n",
    "author = Mahdiyar/Rahmani\n",
    "\n",
    "\n",
    "\n",
    "\"\"\""
   ]
  },
  {
   "cell_type": "markdown",
   "metadata": {},
   "source": [
    "# Tune Multithreading Options"
   ]
  },
  {
   "cell_type": "code",
   "execution_count": 2,
   "metadata": {},
   "outputs": [
    {
     "data": {
      "text/html": [
       "<table style=\"border: 2px solid white;\">\n",
       "<tr>\n",
       "<td style=\"vertical-align: top; border: 0px solid white\">\n",
       "<h3 style=\"text-align: left;\">Client</h3>\n",
       "<ul style=\"text-align: left; list-style: none; margin: 0; padding: 0;\">\n",
       "  <li><b>Scheduler: </b>tcp://127.0.0.1:12463</li>\n",
       "  <li><b>Dashboard: </b><a href='http://127.0.0.1:8787/status' target='_blank'>http://127.0.0.1:8787/status</a>\n",
       "</ul>\n",
       "</td>\n",
       "<td style=\"vertical-align: top; border: 0px solid white\">\n",
       "<h3 style=\"text-align: left;\">Cluster</h3>\n",
       "<ul style=\"text-align: left; list-style:none; margin: 0; padding: 0;\">\n",
       "  <li><b>Workers: </b>6</li>\n",
       "  <li><b>Cores: </b>12</li>\n",
       "  <li><b>Memory: </b>24.00 GB</li>\n",
       "</ul>\n",
       "</td>\n",
       "</tr>\n",
       "</table>"
      ],
      "text/plain": [
       "<Client: 'tcp://127.0.0.1:12463' processes=6 threads=12, memory=24.00 GB>"
      ]
     },
     "execution_count": 2,
     "metadata": {},
     "output_type": "execute_result"
    }
   ],
   "source": [
    "\"\"\"\n",
    "This Part can tune Multi threading\n",
    "\n",
    "n_workers = Number of CPU cores\n",
    "memory_limit = limitation of memory for each worker\n",
    "\n",
    "Becareful about choosing number of workers some time its better to reduce number of workers due to memory limitations\n",
    "\n",
    "Tune partitioning or number of partitions can help multi threading process and may reduce memory overheading\n",
    "\n",
    "\"\"\"\n",
    "\n",
    "\n",
    "\n",
    "\n",
    "from dask.distributed import Client, LocalCluster\n",
    "cluster = LocalCluster(n_workers=6, \n",
    "                       threads_per_worker=2,\n",
    "                       memory_limit='4GB')\n",
    "client = Client(cluster)\n",
    "client"
   ]
  },
  {
   "cell_type": "markdown",
   "metadata": {},
   "source": [
    "# Import Libraries"
   ]
  },
  {
   "cell_type": "code",
   "execution_count": 3,
   "metadata": {},
   "outputs": [],
   "source": [
    "\"\"\"\n",
    "import required library\n",
    "\n",
    "\"\"\"\n",
    "\n",
    "\n",
    "import dask.dataframe as dd\n",
    "import numpy as np\n",
    "import pandas as pd\n",
    "import geopandas as gpd\n",
    "import matplotlib.pyplot as plt"
   ]
  },
  {
   "cell_type": "markdown",
   "metadata": {},
   "source": [
    "# Prepairing Dataset"
   ]
  },
  {
   "cell_type": "code",
   "execution_count": 4,
   "metadata": {},
   "outputs": [],
   "source": [
    "\"\"\"\n",
    "Prepairing Dataset\n",
    "\n",
    "\"\"\"\n",
    "\n",
    "\n",
    "dataframe = dd.read_csv(r'E:\\Arshad\\Thesis\\Datasets\\20000Data\\Raw data\\data20000fix.csv',parse_dates=['Date_Time'])\n",
    "\n",
    "dataframe['Hour'] = dataframe.Date_Time.dt.hour  #adding Hour column in dataset\n",
    "dataframe = dataframe.drop(columns='Date_Time')  #This is for lower memory usage in Graph task\n",
    "\n",
    "dataframe = dataframe[(dataframe.Hour>=6) & (dataframe.Hour<=24)]"
   ]
  },
  {
   "cell_type": "markdown",
   "metadata": {},
   "source": [
    "# Run"
   ]
  },
  {
   "cell_type": "code",
   "execution_count": 5,
   "metadata": {},
   "outputs": [],
   "source": [
    "\"\"\"\n",
    "Group by each anntena by Lat and Long\n",
    "\n",
    "\"\"\"\n",
    "\n",
    "dataframe['Latlong'] = dataframe[['Lat','Long']].apply(tuple,axis=1,meta=(None, 'object'))\n",
    "dataf = dataframe.groupby(by=['Latlong','Hour'])\n",
    "f = dataf.count()\n"
   ]
  },
  {
   "cell_type": "code",
   "execution_count": 6,
   "metadata": {},
   "outputs": [
    {
     "data": {
      "text/html": [
       "<div>\n",
       "<style scoped>\n",
       "    .dataframe tbody tr th:only-of-type {\n",
       "        vertical-align: middle;\n",
       "    }\n",
       "\n",
       "    .dataframe tbody tr th {\n",
       "        vertical-align: top;\n",
       "    }\n",
       "\n",
       "    .dataframe thead th {\n",
       "        text-align: right;\n",
       "    }\n",
       "</style>\n",
       "<table border=\"1\" class=\"dataframe\">\n",
       "  <thead>\n",
       "    <tr style=\"text-align: right;\">\n",
       "      <th></th>\n",
       "      <th></th>\n",
       "      <th>ID</th>\n",
       "      <th>Lat</th>\n",
       "      <th>Long</th>\n",
       "    </tr>\n",
       "    <tr>\n",
       "      <th>Latlong</th>\n",
       "      <th>Hour</th>\n",
       "      <th></th>\n",
       "      <th></th>\n",
       "      <th></th>\n",
       "    </tr>\n",
       "  </thead>\n",
       "  <tbody>\n",
       "    <tr>\n",
       "      <th rowspan=\"5\" valign=\"top\">(35.194, 51.01600000000001)</th>\n",
       "      <th>7</th>\n",
       "      <td>10</td>\n",
       "      <td>10</td>\n",
       "      <td>10</td>\n",
       "    </tr>\n",
       "    <tr>\n",
       "      <th>9</th>\n",
       "      <td>62</td>\n",
       "      <td>62</td>\n",
       "      <td>62</td>\n",
       "    </tr>\n",
       "    <tr>\n",
       "      <th>10</th>\n",
       "      <td>74</td>\n",
       "      <td>74</td>\n",
       "      <td>74</td>\n",
       "    </tr>\n",
       "    <tr>\n",
       "      <th>11</th>\n",
       "      <td>122</td>\n",
       "      <td>122</td>\n",
       "      <td>122</td>\n",
       "    </tr>\n",
       "    <tr>\n",
       "      <th>12</th>\n",
       "      <td>103</td>\n",
       "      <td>103</td>\n",
       "      <td>103</td>\n",
       "    </tr>\n",
       "    <tr>\n",
       "      <th>...</th>\n",
       "      <th>...</th>\n",
       "      <td>...</td>\n",
       "      <td>...</td>\n",
       "      <td>...</td>\n",
       "    </tr>\n",
       "    <tr>\n",
       "      <th rowspan=\"2\" valign=\"top\">(35.685, 51.42)</th>\n",
       "      <th>7</th>\n",
       "      <td>3</td>\n",
       "      <td>3</td>\n",
       "      <td>3</td>\n",
       "    </tr>\n",
       "    <tr>\n",
       "      <th>21</th>\n",
       "      <td>3</td>\n",
       "      <td>3</td>\n",
       "      <td>3</td>\n",
       "    </tr>\n",
       "    <tr>\n",
       "      <th>(35.699, 51.39100000000001)</th>\n",
       "      <th>20</th>\n",
       "      <td>1</td>\n",
       "      <td>1</td>\n",
       "      <td>1</td>\n",
       "    </tr>\n",
       "    <tr>\n",
       "      <th>(35.719, 51.404)</th>\n",
       "      <th>21</th>\n",
       "      <td>1</td>\n",
       "      <td>1</td>\n",
       "      <td>1</td>\n",
       "    </tr>\n",
       "    <tr>\n",
       "      <th>(35.789, 51.39)</th>\n",
       "      <th>16</th>\n",
       "      <td>8</td>\n",
       "      <td>8</td>\n",
       "      <td>8</td>\n",
       "    </tr>\n",
       "  </tbody>\n",
       "</table>\n",
       "<p>12175 rows × 3 columns</p>\n",
       "</div>"
      ],
      "text/plain": [
       "                                   ID  Lat  Long\n",
       "Latlong                     Hour                \n",
       "(35.194, 51.01600000000001) 7      10   10    10\n",
       "                            9      62   62    62\n",
       "                            10     74   74    74\n",
       "                            11    122  122   122\n",
       "                            12    103  103   103\n",
       "...                               ...  ...   ...\n",
       "(35.685, 51.42)             7       3    3     3\n",
       "                            21      3    3     3\n",
       "(35.699, 51.39100000000001) 20      1    1     1\n",
       "(35.719, 51.404)            21      1    1     1\n",
       "(35.789, 51.39)             16      8    8     8\n",
       "\n",
       "[12175 rows x 3 columns]"
      ]
     },
     "execution_count": 6,
     "metadata": {},
     "output_type": "execute_result"
    }
   ],
   "source": [
    "datafinal = f.compute() #it is a method in dask for importing data in memory \n",
    "datafinal #This is for checking"
   ]
  },
  {
   "cell_type": "code",
   "execution_count": 7,
   "metadata": {},
   "outputs": [],
   "source": [
    "datafinal1 = datafinal.reset_index() #reset index for adding Latlong and Hour to columns (index to columns)"
   ]
  },
  {
   "cell_type": "code",
   "execution_count": 8,
   "metadata": {},
   "outputs": [],
   "source": [
    "datafinal1['Lat'] = datafinal1['Latlong'].apply(lambda x: x[0]) #departing Lat Long from tuples to list\n",
    "datafinal1['Long'] = datafinal1['Latlong'].apply(lambda x: x[1]) #departing Lat Long from tuples to list\n",
    "datafinal1['Time'] = datafinal1['Hour'].apply(lambda x: pd.to_datetime('2019 {}:00:00'.format(x))) #creating fake timestamps. because Kepler can not determine Hours as a slideshow "
   ]
  },
  {
   "cell_type": "code",
   "execution_count": 9,
   "metadata": {},
   "outputs": [
    {
     "data": {
      "text/html": [
       "<div>\n",
       "<style scoped>\n",
       "    .dataframe tbody tr th:only-of-type {\n",
       "        vertical-align: middle;\n",
       "    }\n",
       "\n",
       "    .dataframe tbody tr th {\n",
       "        vertical-align: top;\n",
       "    }\n",
       "\n",
       "    .dataframe thead th {\n",
       "        text-align: right;\n",
       "    }\n",
       "</style>\n",
       "<table border=\"1\" class=\"dataframe\">\n",
       "  <thead>\n",
       "    <tr style=\"text-align: right;\">\n",
       "      <th></th>\n",
       "      <th>Latlong</th>\n",
       "      <th>Hour</th>\n",
       "      <th>ID</th>\n",
       "      <th>Lat</th>\n",
       "      <th>Long</th>\n",
       "      <th>Time</th>\n",
       "    </tr>\n",
       "  </thead>\n",
       "  <tbody>\n",
       "    <tr>\n",
       "      <th>0</th>\n",
       "      <td>(35.194, 51.01600000000001)</td>\n",
       "      <td>7</td>\n",
       "      <td>10</td>\n",
       "      <td>35.194</td>\n",
       "      <td>51.016</td>\n",
       "      <td>2019-01-01 07:00:00</td>\n",
       "    </tr>\n",
       "    <tr>\n",
       "      <th>1</th>\n",
       "      <td>(35.194, 51.01600000000001)</td>\n",
       "      <td>9</td>\n",
       "      <td>62</td>\n",
       "      <td>35.194</td>\n",
       "      <td>51.016</td>\n",
       "      <td>2019-01-01 09:00:00</td>\n",
       "    </tr>\n",
       "    <tr>\n",
       "      <th>2</th>\n",
       "      <td>(35.194, 51.01600000000001)</td>\n",
       "      <td>10</td>\n",
       "      <td>74</td>\n",
       "      <td>35.194</td>\n",
       "      <td>51.016</td>\n",
       "      <td>2019-01-01 10:00:00</td>\n",
       "    </tr>\n",
       "    <tr>\n",
       "      <th>3</th>\n",
       "      <td>(35.194, 51.01600000000001)</td>\n",
       "      <td>11</td>\n",
       "      <td>122</td>\n",
       "      <td>35.194</td>\n",
       "      <td>51.016</td>\n",
       "      <td>2019-01-01 11:00:00</td>\n",
       "    </tr>\n",
       "    <tr>\n",
       "      <th>4</th>\n",
       "      <td>(35.194, 51.01600000000001)</td>\n",
       "      <td>12</td>\n",
       "      <td>103</td>\n",
       "      <td>35.194</td>\n",
       "      <td>51.016</td>\n",
       "      <td>2019-01-01 12:00:00</td>\n",
       "    </tr>\n",
       "    <tr>\n",
       "      <th>...</th>\n",
       "      <td>...</td>\n",
       "      <td>...</td>\n",
       "      <td>...</td>\n",
       "      <td>...</td>\n",
       "      <td>...</td>\n",
       "      <td>...</td>\n",
       "    </tr>\n",
       "    <tr>\n",
       "      <th>12170</th>\n",
       "      <td>(35.685, 51.42)</td>\n",
       "      <td>7</td>\n",
       "      <td>3</td>\n",
       "      <td>35.685</td>\n",
       "      <td>51.420</td>\n",
       "      <td>2019-01-01 07:00:00</td>\n",
       "    </tr>\n",
       "    <tr>\n",
       "      <th>12171</th>\n",
       "      <td>(35.685, 51.42)</td>\n",
       "      <td>21</td>\n",
       "      <td>3</td>\n",
       "      <td>35.685</td>\n",
       "      <td>51.420</td>\n",
       "      <td>2019-01-01 21:00:00</td>\n",
       "    </tr>\n",
       "    <tr>\n",
       "      <th>12172</th>\n",
       "      <td>(35.699, 51.39100000000001)</td>\n",
       "      <td>20</td>\n",
       "      <td>1</td>\n",
       "      <td>35.699</td>\n",
       "      <td>51.391</td>\n",
       "      <td>2019-01-01 20:00:00</td>\n",
       "    </tr>\n",
       "    <tr>\n",
       "      <th>12173</th>\n",
       "      <td>(35.719, 51.404)</td>\n",
       "      <td>21</td>\n",
       "      <td>1</td>\n",
       "      <td>35.719</td>\n",
       "      <td>51.404</td>\n",
       "      <td>2019-01-01 21:00:00</td>\n",
       "    </tr>\n",
       "    <tr>\n",
       "      <th>12174</th>\n",
       "      <td>(35.789, 51.39)</td>\n",
       "      <td>16</td>\n",
       "      <td>8</td>\n",
       "      <td>35.789</td>\n",
       "      <td>51.390</td>\n",
       "      <td>2019-01-01 16:00:00</td>\n",
       "    </tr>\n",
       "  </tbody>\n",
       "</table>\n",
       "<p>12175 rows × 6 columns</p>\n",
       "</div>"
      ],
      "text/plain": [
       "                           Latlong  Hour   ID     Lat    Long  \\\n",
       "0      (35.194, 51.01600000000001)     7   10  35.194  51.016   \n",
       "1      (35.194, 51.01600000000001)     9   62  35.194  51.016   \n",
       "2      (35.194, 51.01600000000001)    10   74  35.194  51.016   \n",
       "3      (35.194, 51.01600000000001)    11  122  35.194  51.016   \n",
       "4      (35.194, 51.01600000000001)    12  103  35.194  51.016   \n",
       "...                            ...   ...  ...     ...     ...   \n",
       "12170              (35.685, 51.42)     7    3  35.685  51.420   \n",
       "12171              (35.685, 51.42)    21    3  35.685  51.420   \n",
       "12172  (35.699, 51.39100000000001)    20    1  35.699  51.391   \n",
       "12173             (35.719, 51.404)    21    1  35.719  51.404   \n",
       "12174              (35.789, 51.39)    16    8  35.789  51.390   \n",
       "\n",
       "                     Time  \n",
       "0     2019-01-01 07:00:00  \n",
       "1     2019-01-01 09:00:00  \n",
       "2     2019-01-01 10:00:00  \n",
       "3     2019-01-01 11:00:00  \n",
       "4     2019-01-01 12:00:00  \n",
       "...                   ...  \n",
       "12170 2019-01-01 07:00:00  \n",
       "12171 2019-01-01 21:00:00  \n",
       "12172 2019-01-01 20:00:00  \n",
       "12173 2019-01-01 21:00:00  \n",
       "12174 2019-01-01 16:00:00  \n",
       "\n",
       "[12175 rows x 6 columns]"
      ]
     },
     "execution_count": 9,
     "metadata": {},
     "output_type": "execute_result"
    }
   ],
   "source": [
    "datafinal1 #This is for checking"
   ]
  },
  {
   "cell_type": "code",
   "execution_count": 10,
   "metadata": {},
   "outputs": [
    {
     "data": {
      "text/plain": [
       "28345917"
      ]
     },
     "execution_count": 10,
     "metadata": {},
     "output_type": "execute_result"
    }
   ],
   "source": [
    "datafinal1['ID'].sum() #This is for checking"
   ]
  },
  {
   "cell_type": "code",
   "execution_count": 11,
   "metadata": {},
   "outputs": [],
   "source": [
    "datafinal1.drop(columns=['Latlong','Hour'],inplace=True)\n",
    "datafinal1.rename(columns = {'ID':'Count'},inplace =True)"
   ]
  },
  {
   "cell_type": "markdown",
   "metadata": {},
   "source": [
    "# Output"
   ]
  },
  {
   "cell_type": "code",
   "execution_count": null,
   "metadata": {},
   "outputs": [],
   "source": [
    "\"\"\"\n",
    "Output = datafinal1 which is contain Antenna lat-long and frequency of each antenna from 6AM to 23:59PM\n",
    "\n",
    "\"\"\""
   ]
  },
  {
   "cell_type": "markdown",
   "metadata": {},
   "source": [
    "import this df to this url:https://kepler.gl/demo"
   ]
  },
  {
   "cell_type": "code",
   "execution_count": 13,
   "metadata": {},
   "outputs": [],
   "source": [
    "datafinal1.to_csv('E:trial4.csv',index=False)"
   ]
  },
  {
   "cell_type": "markdown",
   "metadata": {},
   "source": [
    "# Kepler GL"
   ]
  },
  {
   "cell_type": "code",
   "execution_count": 16,
   "metadata": {},
   "outputs": [],
   "source": [
    "from keplergl import KeplerGl"
   ]
  },
  {
   "cell_type": "code",
   "execution_count": 17,
   "metadata": {},
   "outputs": [],
   "source": [
    "df = pd.read_csv('E:trial4.csv')"
   ]
  },
  {
   "cell_type": "code",
   "execution_count": 18,
   "metadata": {},
   "outputs": [
    {
     "name": "stdout",
     "output_type": "stream",
     "text": [
      "User Guide: https://docs.kepler.gl/docs/keplergl-jupyter\n"
     ]
    }
   ],
   "source": [
    "# Change to map as you want\n",
    "# map_1.config\n",
    "# save or copy the current config\n",
    "map_1 = KeplerGl(height=800)\n",
    "map_1.add_data(data=df, name='data_1')\n",
    "# Change to map as you want (Defining the config)\n",
    "# map_1.config\n",
    "# Copy paste the values into the next variable (config)\n",
    "\n",
    "config = {'version': 'v1',\n",
    " 'config': {'visState': {'filters': [{'dataId': ['data_1'],\n",
    "     'id': '8a5i98309',\n",
    "     'name': ['Time'],\n",
    "     'type': 'timeRange',\n",
    "     'value': [1546343718000, 1546347197000],\n",
    "     'enlarged': True,\n",
    "     'plotType': 'histogram',\n",
    "     'yAxis': None}],\n",
    "   'layers': [{'id': '455z94m',\n",
    "     'type': 'geojson',\n",
    "     'config': {'dataId': 'data_1',\n",
    "      'label': 'new layer',\n",
    "      'color': [183, 136, 94],\n",
    "      'columns': {'geojson': 'geometry'},\n",
    "      'isVisible': True,\n",
    "      'visConfig': {'opacity': 0.8,\n",
    "       'strokeOpacity': 0.8,\n",
    "       'thickness': 0.5,\n",
    "       'strokeColor': None,\n",
    "       'colorRange': {'name': 'ColorBrewer YlOrRd-6',\n",
    "        'type': 'sequential',\n",
    "        'category': 'ColorBrewer',\n",
    "        'colors': ['#ffffb2',\n",
    "         '#fed976',\n",
    "         '#feb24c',\n",
    "         '#fd8d3c',\n",
    "         '#f03b20',\n",
    "         '#bd0026']},\n",
    "       'strokeColorRange': {'name': 'Global Warming',\n",
    "        'type': 'sequential',\n",
    "        'category': 'Uber',\n",
    "        'colors': ['#5A1846',\n",
    "         '#900C3F',\n",
    "         '#C70039',\n",
    "         '#E3611C',\n",
    "         '#F1920E',\n",
    "         '#FFC300']},\n",
    "       'radius': 10,\n",
    "       'sizeRange': [0, 10],\n",
    "       'radiusRange': [0, 50],\n",
    "       'heightRange': [0, 500],\n",
    "       'elevationScale': 22.4,\n",
    "       'stroked': True,\n",
    "       'filled': True,\n",
    "       'enable3d': True,\n",
    "       'wireframe': False},\n",
    "      'hidden': False,\n",
    "      'textLabel': [{'field': None,\n",
    "        'color': [255, 255, 255],\n",
    "        'size': 18,\n",
    "        'offset': [0, 0],\n",
    "        'anchor': 'start',\n",
    "        'alignment': 'center'}]},\n",
    "     'visualChannels': {'colorField': {'name': 'REGION_y', 'type': 'integer'},\n",
    "      'colorScale': 'quantile',\n",
    "      'sizeField': None,\n",
    "      'sizeScale': 'linear',\n",
    "      'strokeColorField': None,\n",
    "      'strokeColorScale': 'quantile',\n",
    "      'heightField': {'name': 'REGION_y', 'type': 'integer'},\n",
    "      'heightScale': 'linear',\n",
    "      'radiusField': None,\n",
    "      'radiusScale': 'linear'}}],\n",
    "   'interactionConfig': {'tooltip': {'fieldsToShow': {'data_1': [{'name': 'Unnamed: 0',\n",
    "        'format': None},\n",
    "       {'name': 'index', 'format': None},\n",
    "       {'name': 'REGION_x', 'format': None},\n",
    "       {'name': 'NAME_MAHAL', 'format': None},\n",
    "       {'name': 'CODE', 'format': None}]},\n",
    "     'compareMode': False,\n",
    "     'compareType': 'absolute',\n",
    "     'enabled': True},\n",
    "    'brush': {'size': 0.5, 'enabled': False},\n",
    "    'geocoder': {'enabled': False},\n",
    "    'coordinate': {'enabled': False}},\n",
    "   'layerBlending': 'normal',\n",
    "   'splitMaps': [],\n",
    "   'animationConfig': {'currentTime': None, 'speed': 1}},\n",
    "  'mapState': {'bearing': 24,\n",
    "   'dragRotate': True,\n",
    "   'latitude': 35.73926429865411,\n",
    "   'longitude': 51.23263549178956,\n",
    "   'pitch': 50,\n",
    "   'zoom': 9.425885617522464,\n",
    "   'isSplit': False},\n",
    "  'mapStyle': {'styleType': 'dark',\n",
    "   'topLayerGroups': {},\n",
    "   'visibleLayerGroups': {'label': True,\n",
    "    'road': True,\n",
    "    'border': False,\n",
    "    'building': True,\n",
    "    'water': True,\n",
    "    'land': True,\n",
    "    '3d building': False},\n",
    "   'threeDBuildingColor': [9.665468314072013,\n",
    "    17.18305478057247,\n",
    "    31.1442867897876],\n",
    "   'mapStyles': {}}}}"
   ]
  },
  {
   "cell_type": "code",
   "execution_count": 19,
   "metadata": {},
   "outputs": [],
   "source": [
    "map_1.config = config"
   ]
  },
  {
   "cell_type": "code",
   "execution_count": 20,
   "metadata": {},
   "outputs": [
    {
     "name": "stdout",
     "output_type": "stream",
     "text": [
      "Map saved to E:first_map_1.html!\n"
     ]
    }
   ],
   "source": [
    "# Saving the map using two methods\n",
    "map_1.save_to_html(file_name='E:first_map_1.html')\n",
    "# map_1.save_to_html(data={'data_1': df}, config=config, file_name='/home/saeedrmd/Documents/Work/Mobile Data/KeplerGL/first_map_with_data.html')"
   ]
  },
  {
   "cell_type": "code",
   "execution_count": null,
   "metadata": {},
   "outputs": [],
   "source": []
  },
  {
   "cell_type": "markdown",
   "metadata": {},
   "source": [
    "If want to load the map next time with this saved config, the easiest way to do is to save it to a file \n",
    "and use the magic command %run to load it w/o cluttering up your notebook. See below and also the documentation\n",
    "guide at the beginning of the code.\n",
    "\n",
    "Example:"
   ]
  },
  {
   "cell_type": "code",
   "execution_count": null,
   "metadata": {},
   "outputs": [],
   "source": [
    "### Save map_1 config to a file:\n",
    "# with open('/home/saeedrmd/Documents/Work/Mobile Data/KeplerGL/config.py', 'w') as f:\n",
    "#   f.write('config = {}'.format(map_1.config))\n",
    "\n",
    "### load the config\n",
    "%run /home/saeedrmd/Documents/Work/Mobile Data/KeplerGL/config.py (config is a presaved file)"
   ]
  },
  {
   "cell_type": "code",
   "execution_count": null,
   "metadata": {},
   "outputs": [],
   "source": []
  },
  {
   "cell_type": "code",
   "execution_count": null,
   "metadata": {},
   "outputs": [],
   "source": []
  }
 ],
 "metadata": {
  "kernelspec": {
   "display_name": "Python 3",
   "language": "python",
   "name": "python3"
  },
  "language_info": {
   "codemirror_mode": {
    "name": "ipython",
    "version": 3
   },
   "file_extension": ".py",
   "mimetype": "text/x-python",
   "name": "python",
   "nbconvert_exporter": "python",
   "pygments_lexer": "ipython3",
   "version": "3.7.6"
  }
 },
 "nbformat": 4,
 "nbformat_minor": 4
}
