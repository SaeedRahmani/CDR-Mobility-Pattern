{
 "cells": [
  {
   "cell_type": "markdown",
   "metadata": {},
   "source": [
    "# Producing an Interative Dashboard to Monitor Cells Activity Across the City"
   ]
  },
  {
   "cell_type": "markdown",
   "metadata": {},
   "source": [
    "### This code uses the raw dataset to identify cells activity across the city. Thereafter, by aggregating towers by traffic zones, we can identify which parts of the city are more crowded"
   ]
  },
  {
   "cell_type": "code",
   "execution_count": null,
   "metadata": {},
   "outputs": [],
   "source": [
    "import dask.dataframe as dd\n",
    "import numpy as np\n",
    "import pandas as pd\n",
    "import geopandas as gpd\n",
    "import matplotlib.pyplot as plt\n",
    "from keplergl import KeplerGl\n",
    "import geopandas as gpd\n",
    "import matplotlib\n",
    "\n",
    "from dask.distributed import Client, LocalCluster\n",
    "cluster = LocalCluster(n_workers=6, \n",
    "                       threads_per_worker=2,\n",
    "                       memory_limit='4GB')\n",
    "client = Client(cluster)\n",
    "client"
   ]
  },
  {
   "cell_type": "markdown",
   "metadata": {},
   "source": [
    "# import datasets"
   ]
  },
  {
   "cell_type": "code",
   "execution_count": null,
   "metadata": {},
   "outputs": [],
   "source": [
    "data = dd.read_csv(r'E:***\\raw_datas.csv',parse_dates=['Date_Time'])"
   ]
  },
  {
   "cell_type": "markdown",
   "metadata": {},
   "source": [
    "# filter data frames"
   ]
  },
  {
   "cell_type": "code",
   "execution_count": null,
   "metadata": {},
   "outputs": [],
   "source": [
    "data['Hour'] = data.Date_Time.dt.hour\n",
    "data_filteredbyH = data[(data.Hour>=6) & (data.Hour<=24)]\n",
    "data_gbyH = data_filteredbyH.groupby('Hour')"
   ]
  },
  {
   "cell_type": "markdown",
   "metadata": {},
   "source": [
    "# spatial Join"
   ]
  },
  {
   "cell_type": "code",
   "execution_count": null,
   "metadata": {},
   "outputs": [],
   "source": [
    "def custom_join(df):\n",
    "    shp1 = gpd.read_file(r'E:\\Arshad\\Thesis\\Datasets\\Shapefiles\\Tehran Mahalat\\mahalat.shp') #send this for mr Rahmani\n",
    "    shp = shp1.to_crs({'init': 'epsg:4326'})\n",
    "    geodf = gpd.GeoDataFrame(df, geometry=gpd.points_from_xy(x=df.Long, y=df.Lat), crs={'init': 'epsg:4326'})\n",
    "    joined_data = gpd.sjoin(geodf, shp, how='left',op='within')\n",
    "    joined_data = pd.DataFrame(joined_data)\n",
    "    output = joined_data.groupby('index_right')['REGION'].count().reset_index()\n",
    "    \n",
    "    return output"
   ]
  },
  {
   "cell_type": "code",
   "execution_count": null,
   "metadata": {},
   "outputs": [],
   "source": [
    "countPerMahale = data_gbyH.apply(custom_join,meta={'index_right':np.int64,'REGION':np.int64}).compute()"
   ]
  },
  {
   "cell_type": "markdown",
   "metadata": {},
   "source": [
    "# Plotting"
   ]
  },
  {
   "cell_type": "code",
   "execution_count": null,
   "metadata": {},
   "outputs": [],
   "source": [
    "shp1 = gpd.read_file(r'E:\\Arshad\\Thesis\\Datasets\\Shapefiles\\Tehran Mahalat\\mahalat.shp')\n",
    "shp = shp1.to_crs({'init': 'epsg:4326'})\n",
    "Hours ={}\n",
    "shp['index_right'] = range(0,353)\n",
    "\n",
    "for i in range(6,24):\n",
    "    Merged_shp = shp.merge(countPerMahale.loc[i],on='index_right',how='outer')\n",
    "    Merged_shp.fillna(0,inplace=True)\n",
    "    Hours['{}'.format(i)]=Merged_shp"
   ]
  },
  {
   "cell_type": "code",
   "execution_count": null,
   "metadata": {},
   "outputs": [],
   "source": [
    "for i in range(6,24):\n",
    "    plt.figure()\n",
    "    Hours['{}'.format(i)].plot(figsize=(17,17), edgecolor=\"grey\",cmap='OrRd',column='REGION_y',alpha=0.8)\n",
    "    plt.title('Hour {}'.format(i))"
   ]
  },
  {
   "cell_type": "code",
   "execution_count": null,
   "metadata": {},
   "outputs": [],
   "source": [
    "Hours['22'].plot(figsize=(17,17), edgecolor=\"grey\",cmap='OrRd',column='REGION_y',alpha=0.8)"
   ]
  },
  {
   "cell_type": "code",
   "execution_count": null,
   "metadata": {},
   "outputs": [],
   "source": [
    "#create dataframe for pandas bokeh\n",
    "l=[]\n",
    "for i in range(6,24):\n",
    "    shp['Hour {} Activity'.format(i)] = Hours['{}'.format(i)]['REGION_y']\n",
    "    l.append('Hour {} Activity'.format(i))\n",
    "    "
   ]
  },
  {
   "cell_type": "markdown",
   "metadata": {},
   "source": [
    "# Pandas Bokeh"
   ]
  },
  {
   "cell_type": "code",
   "execution_count": null,
   "metadata": {},
   "outputs": [],
   "source": [
    "import pandas_bokeh\n",
    "pandas_bokeh.output_notebook()\n",
    "\n",
    "from bokeh.palettes import brewer\n",
    "c = brewer['Reds'][8]\n",
    "c = c[::-1]"
   ]
  },
  {
   "cell_type": "code",
   "execution_count": null,
   "metadata": {},
   "outputs": [],
   "source": [
    "slider_columns = l\n",
    "slider_range = range(6, 24)\n",
    "shp.plot_bokeh(\n",
    "    figsize=(900, 600),\n",
    "    slider=slider_columns,\n",
    "    slider_range=slider_range,\n",
    "    slider_name=\"Hour\", \n",
    "    colormap=c,\n",
    "    hovertool_columns=[\"ENAME\"] + slider_columns,\n",
    "    title=\"No of Activity\",alpha = 0.8)"
   ]
  },
  {
   "cell_type": "markdown",
   "metadata": {},
   "source": [
    "# Prepairing the Kepler dataset"
   ]
  },
  {
   "cell_type": "code",
   "execution_count": null,
   "metadata": {},
   "outputs": [],
   "source": [
    "#this is for keplergl\n",
    "ll=[]\n",
    "for i in range(6,24):\n",
    "    ddf=Hours['{}'.format(i)] \n",
    "    ddf['Time'] = pd.to_datetime('2019 {}:00:00'.format(i))\n",
    "    ll.append(ddf)\n",
    "df_keplergl=pd.concat(ll).reset_index()\n",
    "df_keplergl\n",
    "\n",
    "df_keplergl.to_csv('E:file.csv',index=True)"
   ]
  }
 ],
 "metadata": {
  "kernelspec": {
   "display_name": "Python 3",
   "language": "python",
   "name": "python3"
  },
  "language_info": {
   "codemirror_mode": {
    "name": "ipython",
    "version": 3
   },
   "file_extension": ".py",
   "mimetype": "text/x-python",
   "name": "python",
   "nbconvert_exporter": "python",
   "pygments_lexer": "ipython3",
   "version": "3.8.3"
  },
  "varInspector": {
   "cols": {
    "lenName": 16,
    "lenType": 16,
    "lenVar": 40
   },
   "kernels_config": {
    "python": {
     "delete_cmd_postfix": "",
     "delete_cmd_prefix": "del ",
     "library": "var_list.py",
     "varRefreshCmd": "print(var_dic_list())"
    },
    "r": {
     "delete_cmd_postfix": ") ",
     "delete_cmd_prefix": "rm(",
     "library": "var_list.r",
     "varRefreshCmd": "cat(var_dic_list()) "
    }
   },
   "types_to_exclude": [
    "module",
    "function",
    "builtin_function_or_method",
    "instance",
    "_Feature"
   ],
   "window_display": false
  }
 },
 "nbformat": 4,
 "nbformat_minor": 4
}
